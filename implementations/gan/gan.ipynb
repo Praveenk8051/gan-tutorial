{
 "cells": [
  {
   "cell_type": "markdown",
   "id": "equivalent-impact",
   "metadata": {},
   "source": [
    "### GAN Architecture\n",
    "\n",
    "The explanation consists of the flow as mention in published [paper](https://arxiv.org/pdf/1406.2661.pdf) by Ian Goodfellow. The images are own visual understandings to remember. \n",
    "\n",
    "* General Overview of the GAN\n",
    "* Value Function\n",
    "* Global Optimality"
   ]
  },
  {
   "cell_type": "code",
   "execution_count": null,
   "id": "threatened-complement",
   "metadata": {},
   "outputs": [],
   "source": []
  }
 ],
 "metadata": {
  "hide_input": false,
  "kernelspec": {
   "display_name": "Python 3",
   "language": "python",
   "name": "python3"
  },
  "language_info": {
   "codemirror_mode": {
    "name": "ipython",
    "version": 3
   },
   "file_extension": ".py",
   "mimetype": "text/x-python",
   "name": "python",
   "nbconvert_exporter": "python",
   "pygments_lexer": "ipython3",
   "version": "3.8.10"
  }
 },
 "nbformat": 4,
 "nbformat_minor": 5
}
